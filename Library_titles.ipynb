{
 "cells": [
  {
   "cell_type": "code",
   "execution_count": null,
   "id": "dae4293e",
   "metadata": {},
   "outputs": [
    {
     "name": "stdout",
     "output_type": "stream",
     "text": [
      "I can show you some interesting info about the books checked out from Seattle libraries!\n",
      "What year would you like to focus on?2012\n",
      "What month would you like to look at? You can put 'all' if you want to see every month. Please note that I only have data from December to Junejanuary\n",
      "Would you like to view 5 rows of the data?yes\n",
      "Empty DataFrame\n",
      "Columns: [UsageClass, CheckoutType, MaterialType, CheckoutYear, CheckoutMonth, Checkouts, Title, ISBN, Creator, Subjects, Publisher, PublicationYear, month]\n",
      "Index: []\n",
      "Would you like to view 5 more rows of the data? \n",
      "yes\n",
      "Empty DataFrame\n",
      "Columns: [UsageClass, CheckoutType, MaterialType, CheckoutYear, CheckoutMonth, Checkouts, Title, ISBN, Creator, Subjects, Publisher, PublicationYear, month]\n",
      "Index: []\n"
     ]
    }
   ],
   "source": [
    "import time\n",
    "import pandas as pd\n",
    "import numpy as np\n",
    "\n",
    "def load_data(year, month):\n",
    "    df = pd.read_csv('Checkouts_by_Title_trimmed.csv', sep=\",\",names = [\"UsageClass\",\"CheckoutType\",\"MaterialType\",\n",
    "                                                                \"CheckoutYear\",\"CheckoutMonth\",\"Checkouts\",\"Title\",\"ISBN\",\n",
    "                                                                \"Creator\",\"Subjects\",\"Publisher\",\"PublicationYear\"],\n",
    "                     dtype={\"UsageClass\":str,\"CheckoutType\":str,\"MaterialType\":str,\"CheckoutYear\":str,\"CheckoutMonth\":str,\n",
    "                            \"Checkouts\":str,\"Title\":str,\"ISBN\":str,\"Creator\":str,\"Subjects\":str,\"Publisher\":str,\n",
    "                            \"PublicationYear\":str}\n",
    ")\n",
    "    df['month'] = df['CheckoutMonth']\n",
    "    if month != 'all':\n",
    "        months = {'january':1, 'february':2, 'march':3, 'april':4, 'may':5, 'june':6, \"december\":12}\n",
    "        monthNum = months.get(month)\n",
    "        df = df[df['month'] == monthNum]\n",
    "    return df\n",
    "\n",
    "def get_filters():\n",
    "    print(\"I can show you some interesting info about the books checked out from Seattle libraries!\")\n",
    "    year = input(\"What year would you like to focus on?\")\n",
    "    while year not in ['2011', '2012']:\n",
    "        year = input(\"Please put in 2011 or 2012\")\n",
    "        \n",
    "    month = input(\"What month would you like to look at? You can put 'all' if you want to see every month. Please note that I only have data from December to June\").lower()\n",
    "    while month not in ['december','january', 'february', 'march', 'april', 'may', 'june', 'all']:\n",
    "        month = input('Please put in a valid month or \"all\" to see every month. \\n').lower()\n",
    "    \n",
    "    return year, month\n",
    "        \n",
    "\n",
    "        \n",
    "def call_rows(df): \n",
    "    \"\"\"Allows the user to view the raw data, five rows at a time\"\"\"\n",
    "   \n",
    "    answer = input('Would you like to view 5 rows of the data?').lower()\n",
    "    index_start = 0\n",
    "    index_stop = 5\n",
    "    while answer == 'yes':\n",
    "        print(df.iloc[index_start:index_stop])\n",
    "        index_start = index_start + 5\n",
    "        index_stop = index_stop + 5\n",
    "        answer = input('Would you like to view 5 more rows of the data? \\n')\n",
    "\n",
    "def main():\n",
    "    while True:\n",
    "        year, month = get_filters()\n",
    "        df = load_data(year,month)\n",
    "        call_rows(df)\n",
    "        \n",
    "        restart = input('\\nWould you like to restart? Enter yes or no.\\n')\n",
    "        while restart.lower() not in ['yes', 'no']:\n",
    "            restart = input(\"Sorry, I don't understand. Would you like to restart? Enter yes or no. \\n\")\n",
    "        if restart.lower() != 'yes':\n",
    "            break\n",
    "        \n",
    "if __name__ == \"__main__\":\n",
    "    main()"
   ]
  },
  {
   "cell_type": "code",
   "execution_count": null,
   "id": "73c6a6dc",
   "metadata": {},
   "outputs": [],
   "source": []
  }
 ],
 "metadata": {
  "kernelspec": {
   "display_name": "Python 3 (ipykernel)",
   "language": "python",
   "name": "python3"
  },
  "language_info": {
   "codemirror_mode": {
    "name": "ipython",
    "version": 3
   },
   "file_extension": ".py",
   "mimetype": "text/x-python",
   "name": "python",
   "nbconvert_exporter": "python",
   "pygments_lexer": "ipython3",
   "version": "3.9.12"
  }
 },
 "nbformat": 4,
 "nbformat_minor": 5
}
